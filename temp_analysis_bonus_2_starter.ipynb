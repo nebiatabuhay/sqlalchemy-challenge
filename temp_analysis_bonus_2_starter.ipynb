{
 "cells": [
  {
   "cell_type": "code",
   "execution_count": 13,
   "metadata": {},
   "outputs": [],
   "source": [
    "%matplotlib inline\n",
    "from matplotlib import style\n",
    "style.use('fivethirtyeight')\n",
    "import matplotlib.pyplot as plt"
   ]
  },
  {
   "cell_type": "code",
   "execution_count": 14,
   "metadata": {},
   "outputs": [],
   "source": [
    "import numpy as np\n",
    "import pandas as pd\n",
    "import datetime as dt"
   ]
  },
  {
   "cell_type": "markdown",
   "metadata": {},
   "source": [
    "## Reflect Tables into SQLALchemy ORM"
   ]
  },
  {
   "cell_type": "code",
   "execution_count": 15,
   "metadata": {},
   "outputs": [],
   "source": [
    "# Python SQL toolkit and Object Relational Mapper\n",
    "import sqlalchemy\n",
    "from sqlalchemy.ext.automap import automap_base\n",
    "from sqlalchemy.orm import Session\n",
    "from sqlalchemy import create_engine, func"
   ]
  },
  {
   "cell_type": "code",
   "execution_count": 16,
   "metadata": {},
   "outputs": [],
   "source": [
    "# create engine to hawaii.sqlite\n",
    "engine = create_engine(\"sqlite:///Resources/hawaii.sqlite\")"
   ]
  },
  {
   "cell_type": "code",
   "execution_count": 17,
   "metadata": {},
   "outputs": [],
   "source": [
    "# reflect an existing database into a new model\n",
    "Base = automap_base()\n",
    "# reflect the tables\n",
    "Base.prepare(engine, reflect=True)\n",
    "\n"
   ]
  },
  {
   "cell_type": "code",
   "execution_count": 18,
   "metadata": {},
   "outputs": [
    {
     "data": {
      "text/plain": [
       "['measurement', 'station']"
      ]
     },
     "execution_count": 18,
     "metadata": {},
     "output_type": "execute_result"
    }
   ],
   "source": [
    "# View all of the classes that automap found\n",
    "Base.classes.keys()"
   ]
  },
  {
   "cell_type": "code",
   "execution_count": 19,
   "metadata": {},
   "outputs": [],
   "source": [
    "# Save references to each table\n",
    "Measurement = Base.classes.measurement\n",
    "Station = Base.classes.station"
   ]
  },
  {
   "cell_type": "code",
   "execution_count": 20,
   "metadata": {},
   "outputs": [],
   "source": [
    "# Create our session (link) from Python to the DB\n",
    "session = Session(engine)"
   ]
  },
  {
   "cell_type": "markdown",
   "metadata": {},
   "source": [
    "## Bonus Challenge Assignment: Temperature Analysis II"
   ]
  },
  {
   "cell_type": "code",
   "execution_count": 32,
   "metadata": {},
   "outputs": [],
   "source": [
    "# This function called `calc_temps` will accept start date and end date in the format '%Y-%m-%d' \n",
    "# and return the minimum, maximum, and average temperatures for that range of dates\n",
    "\n",
    "\n",
    "def calc_temps(trip_start_date, trip_end_date, most_recent_date):\n",
    "    \n",
    "    # Prepare date specifics  for selecting proper year for query\n",
    "    m_yr = most_recent_date[0:4]\n",
    "    m_md = str(most_recent_date[5:7]) + str(most_recent_date[8:10])\n",
    "    if m_md[0:1] == \"0\":\n",
    "        m_md = m_md[1:] # (MonthDay) eval will not work on a string starting with zero\n",
    "        \n",
    "    # Allow for updates to the data file to accomodate for same year conditions or older trip dates\n",
    "    t_yr = trip_end_date[0:4]\n",
    "    t_md = str(trip_end_date[5:7]) + str(trip_end_date[8:10])\n",
    "    if t_md[0:1] == \"0\":\n",
    "        t_md = t_md[1:]\n",
    "\n",
    "    # Figure it out for the year adjustement     \n",
    "    if (eval(t_yr) > eval(m_yr) and eval(m_md) >= eval(t_md)):\n",
    "        yr_adjust = 0\n",
    "    elif eval(t_yr) < eval(m_yr) and eval(t_md) <= eval(m_md):\n",
    "        yr_adjust = 0\n",
    "    else:\n",
    "        yr_adjust = 1   \n",
    "    \n",
    "    # Build dates for past data per time frame - Get most recent year's data for the trip days\n",
    "    #rec_date = str(most_recent_date)[2:-3]\n",
    "    search_start_date = str(eval(most_recent_date[0:4])-yr_adjust) + trip_start_date[4:]\n",
    "    search_end_date = str(eval(most_recent_date[0:4])-yr_adjust) + trip_end_date[4:]\n",
    "    # existing code from supplied notebook: modified and cleaned up\n",
    "    trip_stats = session.query(func.min(Measurement.tobs),\n",
    "                               func.avg(Measurement.tobs),\n",
    "                               func.max(Measurement.tobs))\\\n",
    "    .filter(Measurement.date >= search_start_date)\\\n",
    "    .filter(Measurement.date <= search_end_date).all()\n",
    "    TMIN = trip_stats[0][0]\n",
    "    TAVG = trip_stats[0][1]\n",
    "    TMAX = trip_stats[0][2]\n",
    "    \n",
    "    return TMIN, TAVG, TMAX, search_start_date, search_end_date"
   ]
  },
  {
   "cell_type": "code",
   "execution_count": 33,
   "metadata": {},
   "outputs": [],
   "source": [
    "# Calculate the date 1 year ago from today - re-posted here for reference\n",
    "most_recent_date = session.query(Measurement.date)\\\n",
    "    .order_by(Measurement.date.desc()).first() \n",
    "most_recent_date = most_recent_date[0]"
   ]
  },
  {
   "cell_type": "code",
   "execution_count": 34,
   "metadata": {},
   "outputs": [
    {
     "name": "stdout",
     "output_type": "stream",
     "text": [
      "\n",
      "Most recent termperature data available is up until:\n",
      "  2017-08-23\n",
      "\n",
      "Trip Start and End dates:\n",
      "  2018-11-10\n",
      "  2018-11-24\n",
      "Calculated Search Dates based on Trip Ending Date:\n",
      "  2016-11-10\n",
      "  2016-11-24\n",
      "RESULTS:\n",
      "  Temp Min: 67.0  Temp Avg: 74.8  Temp: 80.0\n"
     ]
    }
   ],
   "source": [
    "# Hard code trip dates in lieu of webside request\n",
    "\n",
    "# RE_RUN this cell with sample dates below.  TEST results will print below cell\n",
    "\n",
    "# The function is written to work with updated data as well\n",
    "# All queryies will return the most recent year's data for the month/day time period\n",
    "\n",
    "# --Will use 2016 data because there is no data after 2017-08-23 at the time of this code\n",
    "start_date = \"2018-11-10\"\n",
    "end_date = \"2018-11-24\"\n",
    "\n",
    "# --Will use 2017 data\n",
    "# start_date = \"2018-01-10\"\n",
    "# end_date = \"2018-01-24\"\n",
    "\n",
    "# --Will use 2016 data because there is no data after 2017-08-23 at the time of this code\n",
    "# start_date = \"2017-12-01\"\n",
    "# end_date = \"2017-12-15\"\n",
    "\n",
    "# --Will use 2016 data because there is no data after 2017-08-23 at the time of this code\n",
    "# start_date = \"2011-11-10\"\n",
    "# end_date = \"2011-11-24\"\n",
    "\n",
    "# Process dates for appropriate year's data query\n",
    "TMIN, TAVG, TMAX, search_sd, search_ed = calc_temps(start_date, end_date, most_recent_date)\n",
    "tmp_avg = \"{0:.1f}\".format(TAVG)\n",
    "\n",
    "# Print RESULTS:\n",
    "print()\n",
    "print(f\"Most recent termperature data available is up until:\\n  {most_recent_date}\")\n",
    "print()\n",
    "print(f\"Trip Start and End dates:\\n  {start_date}\\n  {end_date}\")\n",
    "print(f\"Calculated Search Dates based on Trip Ending Date:\\n  {search_sd}\\n  {search_ed}\")\n",
    "print(f\"RESULTS:\\n  Temp Min: {TMIN}  Temp Avg: {tmp_avg}  Temp: {TMAX}\")"
   ]
  },
  {
   "cell_type": "code",
   "execution_count": 35,
   "metadata": {},
   "outputs": [
    {
     "data": {
      "image/png": "[encoded data removed]",
      "text/plain": [
       "<Figure size 432x360 with 1 Axes>"
      ]
     },
     "metadata": {},
     "output_type": "display_data"
    },
    {
     "data": {
      "text/plain": [
       "<Figure size 432x288 with 0 Axes>"
      ]
     },
     "metadata": {},
     "output_type": "display_data"
    }
   ],
   "source": [
    "plt.subplots(figsize=(6,5))\n",
    "plt.xlim(0, 2)\n",
    "plt.ylim([0,110])\n",
    "plt.bar(1, TAVG, color = 'orange', yerr = TMAX-TMIN, tick_label=\"\", align='center')\n",
    "plt.title(f\"Trip Ave Temp\\n Historical Data from:  {search_sd} - {search_ed}\", fontsize=14)\n",
    "plt.ylabel(\"Temp (F)\")\n",
    "plt.tight_layout()\n",
    "\n",
    "plt.show()\n",
    "plt.savefig('trip_ave_temp.png')"
   ]
  },
  {
   "cell_type": "markdown",
   "metadata": {},
   "source": [
    "### Daily Rainfall Average"
   ]
  },
  {
   "cell_type": "code",
   "execution_count": 37,
   "metadata": {},
   "outputs": [
    {
     "name": "stdout",
     "output_type": "stream",
     "text": [
      "\n",
      "Historical Rainfall Per Weather Station - Descending order\n",
      "  Trip Dates: 2018-11-10 - 2018-11-24\n",
      "  Most Recent Data Search Dates: 2016-11-10 - 2016-11-24\n",
      "\n",
      "Station:  USC00516128\n",
      "    Rainfall:  6.93  \n",
      "    Location:  MANOA LYON ARBO 785.2, HI US\n",
      "    Elevation:  152.4      Latitude:  21.3331  Longitude:  -157.8025\n",
      "\n",
      "Station:  USC00519281\n",
      "    Rainfall:  3.46  \n",
      "    Location:  WAIHEE 837.5, HI US\n",
      "    Elevation:  32.9      Latitude:  21.45167  Longitude:  -157.84888999999998\n",
      "\n",
      "Station:  USC00519523\n",
      "    Rainfall:  1.24  \n",
      "    Location:  WAIMANALO EXPERIMENTAL FARM, HI US\n",
      "    Elevation:  19.5      Latitude:  21.33556  Longitude:  -157.71139\n",
      "\n",
      "Station:  USC00513117\n",
      "    Rainfall:  1.12  \n",
      "    Location:  KANEOHE 838.1, HI US\n",
      "    Elevation:  14.6      Latitude:  21.4234  Longitude:  -157.8015\n",
      "\n",
      "Station:  USC00519397\n",
      "    Rainfall:  0.41  \n",
      "    Location:  WAIKIKI 717.2, HI US\n",
      "    Elevation:  3.0      Latitude:  21.2716  Longitude:  -157.8168\n",
      "\n",
      "Station:  USC00514830\n",
      "    Rainfall:  0.23  \n",
      "    Location:  KUALOA RANCH HEADQUARTERS 886.9, HI US\n",
      "    Elevation:  7.0      Latitude:  21.5213  Longitude:  -157.8374\n",
      "\n",
      "Station:  USC00517948\n",
      "    Rainfall:  0.02  \n",
      "    Location:  PEARL CITY, HI US\n",
      "    Elevation:  11.9      Latitude:  21.3934  Longitude:  -157.9751\n",
      "\n"
     ]
    }
   ],
   "source": [
    "q = session.query(Station.station,\n",
    "                  func.sum(Measurement.prcp),\n",
    "                  Station.name,\n",
    "                  Station.elevation,                                    \n",
    "                  Station.latitude,\n",
    "                  Station.longitude)\\\n",
    ".filter(Measurement.station == Station.station)\\\n",
    ".filter(Measurement.date >= search_sd)\\\n",
    ".filter(Measurement.date <= search_ed)\\\n",
    ".group_by(Station.station)\\\n",
    ".order_by(func.sum(Measurement.prcp).desc())\n",
    "\n",
    "# A nice layout to read the results\n",
    "print()\n",
    "print (f\"Historical Rainfall Per Weather Station - Descending order\\n  Trip Dates: \\\n",
    "{start_date} - {end_date}\\n  Most Recent Data Search Dates: {search_sd} - {search_ed}\")\n",
    "print()\n",
    "for row in q:\n",
    "    rain=\"{0:.2f}\".format(row[1])\n",
    "    print (f\"Station:  {row[0]}\\n    Rainfall:  {rain}  \\n    Location:  {row[2]}\\n    Elevation:  {row[3]}  \\\n",
    "    Latitude:  {row[4]}  Longitude:  {row[5]}\")\n",
    "    print()       "
   ]
  },
  {
   "cell_type": "code",
   "execution_count": null,
   "metadata": {},
   "outputs": [],
   "source": [
    "# Use this function to calculate the daily normals \n",
    "# (i.e. the averages for tmin, tmax, and tavg for all historic data matching a specific month and day)\n",
    "\n",
    "def daily_normals(date):\n",
    "    \"\"\"Daily Normals.\n",
    "    \n",
    "    Args:\n",
    "        date (str): A date string in the format '%m-%d'\n",
    "        \n",
    "    Returns:\n",
    "        A list of tuples containing the daily normals, tmin, tavg, and tmax\n",
    "    \n",
    "    \"\"\"\n",
    "    \n",
    "    sel = [func.min(Measurement.tobs), func.avg(Measurement.tobs), func.max(Measurement.tobs)]\n",
    "    return session.query(*sel).filter(func.strftime(\"%m-%d\", Measurement.date) == date).all()\n",
    "\n",
    "# For example\n",
    "daily_normals(\"01-01\")"
   ]
  },
  {
   "cell_type": "code",
   "execution_count": null,
   "metadata": {},
   "outputs": [],
   "source": [
    "# calculate the daily normals for your trip\n",
    "# push each tuple of calculations into a list called `normals`\n",
    "\n",
    "# Set the start and end date of the trip\n",
    "start_date = '2017-08-01'\n",
    "end_date = '2017-08-07'\n",
    "\n",
    "# Use the start and end date to create a range of dates\n",
    "\n",
    "\n",
    "# Strip off the year and save a list of strings in the format %m-%d\n",
    "\n",
    "\n",
    "# Use the `daily_normals` function to calculate the normals for each date string \n",
    "# and append the results to a list called `normals`.\n"
   ]
  },
  {
   "cell_type": "code",
   "execution_count": null,
   "metadata": {},
   "outputs": [],
   "source": [
    "# Load the previous query results into a Pandas DataFrame and add the `trip_dates` range as the `date` index"
   ]
  },
  {
   "cell_type": "code",
   "execution_count": null,
   "metadata": {},
   "outputs": [],
   "source": [
    "# Plot the daily normals as an area plot with `stacked=False`"
   ]
  },
  {
   "cell_type": "markdown",
   "metadata": {},
   "source": [
    "## Close Session"
   ]
  },
  {
   "cell_type": "code",
   "execution_count": null,
   "metadata": {},
   "outputs": [],
   "source": []
  }
 ],
 "metadata": {
  "kernelspec": {
   "display_name": "Python 3",
   "language": "python",
   "name": "python3"
  },
  "language_info": {
   "codemirror_mode": {
    "name": "ipython",
    "version": 3
   },
   "file_extension": ".py",
   "mimetype": "text/x-python",
   "name": "python",
   "nbconvert_exporter": "python",
   "pygments_lexer": "ipython3",
   "version": "3.8.5"
  }
 },
 "nbformat": 4,
 "nbformat_minor": 4
}
